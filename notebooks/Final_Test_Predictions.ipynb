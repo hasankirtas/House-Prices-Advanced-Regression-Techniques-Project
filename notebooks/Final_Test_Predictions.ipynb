{
 "cells": [
  {
   "cell_type": "code",
   "execution_count": null,
   "id": "8b749fb7-5edd-47a6-8e32-68902d60e36f",
   "metadata": {},
   "outputs": [],
   "source": [
    "import pandas as pd\n",
    "import joblib\n",
    "from sklearn.impute import SimpleImputer\n",
    "import warnings\n",
    "warnings.filterwarnings('ignore')\n",
    "\n",
    "# Load data\n",
    "train_data = pd.read_csv('../data/processed/processed_train_data.csv').copy()\n",
    "test_data_processed_raw = pd.read_csv('../data/processed/processed_test_data.csv').copy()\n",
    "sample_submission = pd.read_csv('../data/raw/sample_submission.csv').copy()\n",
    "\n",
    "# Load the trained model\n",
    "stacked_extra_trees_regressor_model = joblib.load('../models/stacked_extra_trees_regressor_model.pkl')\n",
    "\n",
    "# Define top 20 features\n",
    "top_20_features = [\n",
    "    'Overall_Quality_Impact', 'Overall_Quality', 'Neighborhood_avg_price', 'TotalBsmtSF',\n",
    "    'BsmtQual_to_BsmtFinSF', 'TotalOutdoorArea', 'OverallQual', '2ndFlrSF', '1stFlrSF', \n",
    "    'BsmtFinSF1', 'YearBuilt', 'LotArea', 'Garage_Capacity_per_Square_Meter', \n",
    "    'FireplaceQu_OverallQuality_Interaction', 'GrLivArea', 'GarageCars', 'OpenPorchSF', \n",
    "    'PavedDrive_LotFrontage_Interaction', 'BsmtUnfSF', 'YearRemodAdd'\n",
    "]\n",
    "\n",
    "# Select only the top 25 features from the test dataset\n",
    "test_data = test_data_processed_raw[top_20_features]\n",
    "\n",
    "# Handle missing values: Impute NaNs with the mean value of each column\n",
    "imputer = SimpleImputer(strategy='mean')\n",
    "test_data_imputed = imputer.fit_transform(test_data)\n",
    "\n",
    "# Predict SalePrice using the loaded model\n",
    "predictions = stacked_extra_trees_regressor_model.predict(test_data_imputed)\n",
    "\n",
    "# Add the predictions to the sample_submission dataframe\n",
    "sample_submission['SalePrice'] = predictions\n",
    "\n",
    "# Save the results to a new CSV file\n",
    "sample_submission.to_csv('../submission/test_predictions.csv', index=False)\n",
    "\n",
    "print(\"Predictions have been saved successfully.\")"
   ]
  },
  {
   "cell_type": "code",
   "execution_count": null,
   "id": "50a28ef4-42a0-4def-a5f2-62ec5708a84c",
   "metadata": {},
   "outputs": [],
   "source": [
    "sample_submission.columns"
   ]
  },
  {
   "cell_type": "code",
   "execution_count": null,
   "id": "aa29cf4a-074f-4437-a575-4d5407644e2b",
   "metadata": {},
   "outputs": [],
   "source": [
    "sample_submission = pd.read_csv('../submission/test_predictions.csv', index_col=0)\n",
    "\n",
    "if 'Unnamed: 0' in sample_submission.columns:\n",
    "    sample_submission = sample_submission.drop(columns=['Unnamed: 0'])\n"
   ]
  },
  {
   "cell_type": "code",
   "execution_count": null,
   "id": "953d1862-e6b7-4329-9bc5-0af224d91ca6",
   "metadata": {},
   "outputs": [],
   "source": [
    "sample_submission.columns"
   ]
  },
  {
   "cell_type": "code",
   "execution_count": null,
   "id": "0e3b5639-3715-4d81-8e3d-335d5ba6bc35",
   "metadata": {},
   "outputs": [],
   "source": [
    "sample_submission.to_csv('../submission/test_predictions.csv', index=False)"
   ]
  }
 ],
 "metadata": {
  "kernelspec": {
   "display_name": "Python [conda env:base] *",
   "language": "python",
   "name": "conda-base-py"
  },
  "language_info": {
   "codemirror_mode": {
    "name": "ipython",
    "version": 3
   },
   "file_extension": ".py",
   "mimetype": "text/x-python",
   "name": "python",
   "nbconvert_exporter": "python",
   "pygments_lexer": "ipython3",
   "version": "3.12.7"
  }
 },
 "nbformat": 4,
 "nbformat_minor": 5
}
